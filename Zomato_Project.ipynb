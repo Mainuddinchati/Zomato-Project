{
  "nbformat": 4,
  "nbformat_minor": 0,
  "metadata": {
    "colab": {
      "private_outputs": true,
      "provenance": []
    },
    "kernelspec": {
      "name": "python3",
      "display_name": "Python 3"
    },
    "language_info": {
      "name": "python"
    }
  },
  "cells": [
    {
      "cell_type": "markdown",
      "source": [
        "# **Zomato data analysis project**"
      ],
      "metadata": {
        "id": "5uiZ2lhTkQ1y"
      }
    },
    {
      "cell_type": "code",
      "source": [
        "import pandas as pd\n",
        "import numpy as np\n",
        "import matplotlib.pyplot as plt\n",
        "import seaborn as sns"
      ],
      "metadata": {
        "id": "O515alNhkTlA"
      },
      "execution_count": null,
      "outputs": []
    },
    {
      "cell_type": "code",
      "source": [
        "df=pd.read_csv('/content/Zomato data .csv')"
      ],
      "metadata": {
        "id": "HGXHWNPzkx-z"
      },
      "execution_count": null,
      "outputs": []
    },
    {
      "cell_type": "code",
      "source": [
        "df"
      ],
      "metadata": {
        "id": "IgZhmSvOlFVD"
      },
      "execution_count": null,
      "outputs": []
    },
    {
      "cell_type": "markdown",
      "source": [
        "# **convert the data type of column - rate**"
      ],
      "metadata": {
        "id": "DlIGB4Xtl7ok"
      }
    },
    {
      "cell_type": "code",
      "source": [
        "def handleRate(value):\n",
        "  value=str(value).split('/')\n",
        "  value=value[0];\n",
        "  return float(value)\n",
        "\n",
        "df['rate']=df['rate'].apply(handleRate)"
      ],
      "metadata": {
        "id": "-v6Z2q9dlwpj"
      },
      "execution_count": null,
      "outputs": []
    },
    {
      "cell_type": "code",
      "source": [
        "df"
      ],
      "metadata": {
        "id": "5QxPVi2znCao"
      },
      "execution_count": null,
      "outputs": []
    },
    {
      "cell_type": "code",
      "source": [
        "df.info()"
      ],
      "metadata": {
        "id": "TVuF259dnDnk"
      },
      "execution_count": null,
      "outputs": []
    },
    {
      "cell_type": "markdown",
      "source": [
        "# **Type of resturant**"
      ],
      "metadata": {
        "id": "VOk81a4Dnk_a"
      }
    },
    {
      "cell_type": "code",
      "source": [
        "df.head()"
      ],
      "metadata": {
        "id": "mLdpftAmnsVR"
      },
      "execution_count": null,
      "outputs": []
    },
    {
      "cell_type": "code",
      "source": [
        "sns.countplot(x=df['listed_in(type)'])\n",
        "plt.xlabel(\"Type of resturant\")"
      ],
      "metadata": {
        "id": "HCqJZRtmnxc7"
      },
      "execution_count": null,
      "outputs": []
    },
    {
      "cell_type": "markdown",
      "source": [
        "# **conclusion - Majority of the resturant falls in dining category**"
      ],
      "metadata": {
        "id": "y8iYdQzyotoc"
      }
    },
    {
      "cell_type": "code",
      "source": [
        "df.head()"
      ],
      "metadata": {
        "id": "dqawY597oOAg"
      },
      "execution_count": null,
      "outputs": []
    },
    {
      "cell_type": "code",
      "source": [
        "grouped_data=df.groupby('listed_in(type)')['votes'].sum()\n",
        "result=pd.DataFrame({'votes':grouped_data})\n",
        "plt.plot(result, c='green',marker='o')\n",
        "plt.xlabel('Type of resturant', c='red',size=20)\n",
        "plt.ylabel('votes',c='red',size=20)"
      ],
      "metadata": {
        "id": "YmERwP6IpMMS"
      },
      "execution_count": null,
      "outputs": []
    },
    {
      "cell_type": "markdown",
      "source": [
        "# **conclusion - dinning resturants has recieved maximum votes**"
      ],
      "metadata": {
        "id": "bKvL8fg3q-8s"
      }
    },
    {
      "cell_type": "code",
      "source": [
        "plt.hist(df['rate'],bins=5)\n",
        "plt.title(\"Ratings distribution\")\n",
        "plt.show()"
      ],
      "metadata": {
        "id": "lFBkmqYWq-Q4"
      },
      "execution_count": null,
      "outputs": []
    },
    {
      "cell_type": "markdown",
      "source": [
        "# **conclusion - The majority resturants received ratings from 3.5 to 4**"
      ],
      "metadata": {
        "id": "Z3bHkwfwsAId"
      }
    },
    {
      "cell_type": "markdown",
      "source": [
        "# **Average order spending by couples**"
      ],
      "metadata": {
        "id": "XDpdRfmBseWH"
      }
    },
    {
      "cell_type": "code",
      "source": [
        "couple_data=df['approx_cost(for two people)']\n",
        "sns.countplot(x=couple_data)"
      ],
      "metadata": {
        "id": "RPkbb1YArwP2"
      },
      "execution_count": null,
      "outputs": []
    },
    {
      "cell_type": "markdown",
      "source": [
        "# **conclusion - The majority of couples prefer resturants with an approximate cost of 300 rupees**"
      ],
      "metadata": {
        "id": "S0Iv1bfHtWNJ"
      }
    },
    {
      "cell_type": "markdown",
      "source": [
        "# **which mode receives maximum rating**"
      ],
      "metadata": {
        "id": "V5AjRMqht1Wq"
      }
    },
    {
      "cell_type": "code",
      "source": [
        "plt.figure(figsize=(6,6))\n",
        "sns.boxplot(x='online_order',y='rate',data=df)"
      ],
      "metadata": {
        "id": "2PYAeBZ0tE07"
      },
      "execution_count": null,
      "outputs": []
    },
    {
      "cell_type": "markdown",
      "source": [
        "# **conclusion - Offline order received lower rating in comparison to online order**"
      ],
      "metadata": {
        "id": "2pWgFV_euxuq"
      }
    },
    {
      "cell_type": "code",
      "source": [
        "!pip install seaborn --upgrade\n",
        "import seaborn as sns\n",
        "import matplotlib.pyplot as plt\n",
        "\n",
        "pivot_table=df.pivot_table(index='listed_in(type)',columns='online_order',aggfunc='size',fill_value=0)\n",
        "\n",
        "\n",
        "sns.heatmap(pivot_table,annot=True,cmap='YlGnBu',fmt='d')\n",
        "plt.title('Heatmap')\n",
        "plt.xlabel('online order')\n",
        "plt.ylabel('listed In (Type)')\n",
        "plt.show()"
      ],
      "metadata": {
        "id": "xsEVvJMIwgMy"
      },
      "execution_count": null,
      "outputs": []
    },
    {
      "cell_type": "markdown",
      "source": [
        "# **conclusion - Dining restaurants primarily accept offline orders, where as cafes primarily receive online orders. This suggests that clients prefers orders in person at restaurants, but prefer onlene ordering at cafes.**"
      ],
      "metadata": {
        "id": "suHtARY0xmR8"
      }
    },
    {
      "cell_type": "code",
      "source": [],
      "metadata": {
        "id": "52dy8l8QxCur"
      },
      "execution_count": null,
      "outputs": []
    }
  ]
}